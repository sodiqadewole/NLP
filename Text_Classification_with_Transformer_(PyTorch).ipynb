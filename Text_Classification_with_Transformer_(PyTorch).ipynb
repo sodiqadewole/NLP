{
  "nbformat": 4,
  "nbformat_minor": 0,
  "metadata": {
    "colab": {
      "provenance": [],
      "machine_shape": "hm",
      "gpuType": "L4"
    },
    "kernelspec": {
      "name": "python3",
      "display_name": "Python 3"
    },
    "language_info": {
      "name": "python"
    },
    "accelerator": "GPU"
  },
  "cells": [
    {
      "cell_type": "markdown",
      "source": [],
      "metadata": {
        "id": "OMrshUuhp8G4"
      }
    },
    {
      "cell_type": "code",
      "source": [
        "# !pip install torchtext\n",
        "# !pip install datasets"
      ],
      "metadata": {
        "id": "ZWHjEOFF6ZAV"
      },
      "execution_count": null,
      "outputs": []
    },
    {
      "cell_type": "code",
      "execution_count": 1,
      "metadata": {
        "id": "ZDGBXOvtoZXV"
      },
      "outputs": [],
      "source": [
        "import torch\n",
        "import torch.nn as nn\n",
        "import torch.optim as optim\n",
        "from datasets import load_dataset"
      ]
    },
    {
      "cell_type": "code",
      "source": [
        "print('Using PyTorch version:', torch.__version__)\n",
        "if torch.cuda.is_available():\n",
        "    print('Using GPU, device name:', torch.cuda.get_device_name(0))\n",
        "    device = torch.device('cuda')\n",
        "else:\n",
        "    print('No GPU found, using CPU instead.')\n",
        "    device = torch.device('cpu')"
      ],
      "metadata": {
        "colab": {
          "base_uri": "https://localhost:8080/"
        },
        "id": "UEeiPo6iXIh7",
        "outputId": "de0fc321-be76-4037-d28b-f2b0627f68ef"
      },
      "execution_count": 2,
      "outputs": [
        {
          "output_type": "stream",
          "name": "stdout",
          "text": [
            "Using PyTorch version: 2.8.0+cu126\n",
            "Using GPU, device name: NVIDIA L4\n"
          ]
        }
      ]
    },
    {
      "cell_type": "markdown",
      "source": [
        "Implementation of Transformer Block as a Layer"
      ],
      "metadata": {
        "id": "rv06U4nfqGTC"
      }
    },
    {
      "cell_type": "code",
      "source": [
        "class TransformerBlock(nn.Module):\n",
        "    def __init__(self, embed_size, num_heads, dropout, forward_expansion):\n",
        "        super(TransformerBlock, self).__init__()\n",
        "        self.attention = nn.MultiheadAttention(embed_dim=embed_size, num_heads=num_heads)\n",
        "        self.ffn = nn.Sequential(\n",
        "            nn.Linear(embed_size, forward_expansion * embed_size),\n",
        "            nn.ReLU(),\n",
        "            nn.Linear(forward_expansion * embed_size, embed_size)\n",
        "        )\n",
        "        self.layernorm1 = nn.LayerNorm(embed_size)\n",
        "        self.layernorm2 = nn.LayerNorm(embed_size)\n",
        "        self.dropout1 = nn.Dropout(dropout)\n",
        "        self.dropout2 = nn.Dropout(dropout)\n",
        "\n",
        "    def forward(self, x):\n",
        "        attention_output, _ = self.attention(x, x, x) # check\n",
        "        attention_output = self.droupout1(attention_output)\n",
        "        out1 = self.layernorm1(x + attention_output)\n",
        "        ffn_output = self.ffn(out1)\n",
        "        ffn_output = self.dropout2(ffn_output)\n",
        "        return self.layernorm2(out1 + ffn_output)\n",
        "\n",
        "# transformer = TransformerBlock(embed_size=512, num_heads=8, dropout=0.1, forward_expansion=4)"
      ],
      "metadata": {
        "id": "Q_ydNX94qEyy"
      },
      "execution_count": 3,
      "outputs": []
    },
    {
      "cell_type": "markdown",
      "source": [
        "Implement Embedding Layer"
      ],
      "metadata": {
        "id": "MlqxeDUJ3_Wr"
      }
    },
    {
      "cell_type": "code",
      "source": [
        "class TokenAndPositionEmbedding(nn.Module):\n",
        "    def __init__(self, max_len, vocab_size, embed_size):\n",
        "        super(TokenAndPositionEmbedding, self).__init__()\n",
        "        self.token_embedding = nn.Embedding(vocab_size, embed_size)\n",
        "        self.position_embedding = nn.Embedding(max_len, embed_size)\n",
        "\n",
        "    def forward(self, x):\n",
        "        max_len = x.size(1)\n",
        "        positions = torch.arange(max_len, dtype=torch.long).unsqueeze(0)\n",
        "        return self.token_embedding(x) + self.position_embedding(positions)\n",
        "\n",
        "# embedding = TokenAndPositionEmbedding(max_len=100, vocab_size=10000, embed_size=512)"
      ],
      "metadata": {
        "id": "gpIVm11sqE1m"
      },
      "execution_count": 4,
      "outputs": []
    },
    {
      "cell_type": "markdown",
      "source": [
        "Load Dataset"
      ],
      "metadata": {
        "id": "DpKY8DPAUdP1"
      }
    },
    {
      "cell_type": "code",
      "source": [
        "from tokenizers import Tokenizer\n",
        "from tokenizers import models, trainers, pre_tokenizers, normalizers\n",
        "\n",
        "train_dataset = load_dataset('imdb', split='train')\n",
        "test_dataset = load_dataset('imdb', split='test')\n",
        "\n",
        "train_dataset[0]['text']"
      ],
      "metadata": {
        "colab": {
          "base_uri": "https://localhost:8080/",
          "height": 281
        },
        "id": "dqWdKmCtHw2u",
        "outputId": "a10572a3-d73e-40ae-c40a-6fca7daafbcd"
      },
      "execution_count": 5,
      "outputs": [
        {
          "output_type": "stream",
          "name": "stderr",
          "text": [
            "/usr/local/lib/python3.12/dist-packages/huggingface_hub/utils/_auth.py:94: UserWarning: \n",
            "The secret `HF_TOKEN` does not exist in your Colab secrets.\n",
            "To authenticate with the Hugging Face Hub, create a token in your settings tab (https://huggingface.co/settings/tokens), set it as secret in your Google Colab and restart your session.\n",
            "You will be able to reuse this secret in all of your notebooks.\n",
            "Please note that authentication is recommended but still optional to access public models or datasets.\n",
            "  warnings.warn(\n"
          ]
        },
        {
          "output_type": "execute_result",
          "data": {
            "text/plain": [
              "'I rented I AM CURIOUS-YELLOW from my video store because of all the controversy that surrounded it when it was first released in 1967. I also heard that at first it was seized by U.S. customs if it ever tried to enter this country, therefore being a fan of films considered \"controversial\" I really had to see this for myself.<br /><br />The plot is centered around a young Swedish drama student named Lena who wants to learn everything she can about life. In particular she wants to focus her attentions to making some sort of documentary on what the average Swede thought about certain political issues such as the Vietnam War and race issues in the United States. In between asking politicians and ordinary denizens of Stockholm about their opinions on politics, she has sex with her drama teacher, classmates, and married men.<br /><br />What kills me about I AM CURIOUS-YELLOW is that 40 years ago, this was considered pornographic. Really, the sex and nudity scenes are few and far between, even then it\\'s not shot like some cheaply made porno. While my countrymen mind find it shocking, in reality sex and nudity are a major staple in Swedish cinema. Even Ingmar Bergman, arguably their answer to good old boy John Ford, had sex scenes in his films.<br /><br />I do commend the filmmakers for the fact that any sex shown in the film is shown for artistic purposes rather than just to shock people and make money to be shown in pornographic theaters in America. I AM CURIOUS-YELLOW is a good film for anyone wanting to study the meat and potatoes (no pun intended) of Swedish cinema. But really, this film doesn\\'t have much of a plot.'"
            ],
            "application/vnd.google.colaboratory.intrinsic+json": {
              "type": "string"
            }
          },
          "metadata": {},
          "execution_count": 5
        }
      ]
    },
    {
      "cell_type": "code",
      "source": [
        "vocab_size = 20000 # we only consider the top 20k words\n",
        "max_len = 200 # we only consider the first 200 words of each movie review\n",
        "\n",
        "from tokenizers import Tokenizer\n",
        "from tokenizers.models import WordLevel\n",
        "from tokenizers.trainers import WordLevelTrainer\n",
        "\n",
        "\n",
        "tokenizer = Tokenizer(WordLevel(unk_token='[UNK]'))\n",
        "tokenizer.pre_tokenizer = pre_tokenizers.Whitespace()\n",
        "tokenizer.normalizer = normalizers.Sequence([normalizers.NFD(),\n",
        "                                             normalizers.Lowercase(),\n",
        "                                             normalizers.StripAccents()])\n",
        "\n",
        "trainer = trainers.WordLevelTrainer(vocab_size=vocab_size,\n",
        "                                    min_frequency=1,\n",
        "                                    special_tokens=['[UNK]'])\n",
        "\n",
        "tokenizer.train_from_iterator(train_dataset['text'], trainer)\n",
        "\n",
        "# tokenizer.encode(train_dataset[0]['text']).tokens"
      ],
      "metadata": {
        "id": "ECdn1UNyqE4q"
      },
      "execution_count": 6,
      "outputs": []
    },
    {
      "cell_type": "code",
      "source": [
        "def transform_text(text):\n",
        "    x = tokenizer.encode(text)\n",
        "    x.truncate(max_len)\n",
        "    x.pad(max_len)\n",
        "    return x.ids\n",
        "\n",
        "def apply_transform(x):\n",
        "    return {'input_ids': transform_text(x['text']), 'label_id': float(x['label'])}\n",
        "\n",
        "train_dataset = train_dataset.map(apply_transform, remove_columns=['text', 'label']).with_format('torch')\n",
        "test_dataset = test_dataset.map(apply_transform, remove_columns=['text', 'label']).with_format('torch')\n",
        "\n",
        "print(len(train_dataset), \"Training samples\")\n",
        "print(len(test_dataset), \"Testing samples\")"
      ],
      "metadata": {
        "id": "SJnTAVuxqE-n",
        "colab": {
          "base_uri": "https://localhost:8080/"
        },
        "outputId": "18247a88-7501-4473-c715-e431a71b2c3b"
      },
      "execution_count": 7,
      "outputs": [
        {
          "output_type": "stream",
          "name": "stdout",
          "text": [
            "25000 Training samples\n",
            "25000 Testing samples\n"
          ]
        }
      ]
    },
    {
      "cell_type": "code",
      "source": [
        "batch_size = 32\n",
        "train_loader = torch.utils.data.DataLoader(train_dataset, batch_size=batch_size, shuffle=True,\n",
        "                                           drop_last=True)\n",
        "test_loader = torch.utils.data.DataLoader(test_dataset, batch_size=batch_size, shuffle=False,\n",
        "                                          drop_last=True)"
      ],
      "metadata": {
        "id": "41AsnIwZVsrJ"
      },
      "execution_count": 8,
      "outputs": []
    },
    {
      "cell_type": "markdown",
      "source": [
        "Create classifier model using transformer layer"
      ],
      "metadata": {
        "id": "UYedeNgWOVxd"
      }
    },
    {
      "cell_type": "code",
      "source": [
        "emb_dim = 32 # Embedding size for each token\n",
        "num_heads = 2 # Number of attention heads\n",
        "# ff_dim = 32 # Feedforward dimension\n",
        "num_transformer_blocks = 1 # Number of transformer blocks\n",
        "\n",
        "class TransformerModel(nn.Module):\n",
        "    def __init__(self):\n",
        "        super(TransformerModel, self).__init__()\n",
        "        self.embedding = TokenAndPositionEmbedding(max_len, vocab_size, emb_dim)\n",
        "        # self.transformer_blocks = nn.ModuleList([TransformerBlock(emb_dim, num_heads, 0.1, 4) for _ in range(num_transformer_blocks)])\n",
        "        self.transformer_blocks = TransformerBlock(emb_dim, num_heads, 0.1, 4)\n",
        "        self.global_pool = nn.AdaptiveAvgPool1d(1)\n",
        "        self.dropout = nn.Dropout(0.1)\n",
        "        self.fc1 = nn.Linear(emb_dim, 20)\n",
        "        self.fc2 = nn.Linear(20, 2)\n",
        "        self.softmax = nn.Softmax(dim=1)\n",
        "        self.relu = nn.ReLU()\n",
        "\n",
        "    def forward(self, x):\n",
        "        x = self.embedding(x)\n",
        "        for transformer in self.transformer_blocks:\n",
        "            x = transformer(x)\n",
        "        x = self.global_pool(x).squeeze(2)\n",
        "        x = self.dropout(x)\n",
        "        x = self.fc1(x)\n",
        "        x = self.relu(x)\n",
        "        x = self.dropout(x)\n",
        "        x = self.fc2(x)\n",
        "        return self.softmax(x)\n",
        "\n",
        "model = TransformerModel().to(device)\n",
        "# model"
      ],
      "metadata": {
        "id": "-mfM0mRNLz-R"
      },
      "execution_count": 9,
      "outputs": []
    },
    {
      "cell_type": "code",
      "source": [
        "from tqdm import tqdm\n",
        "\n",
        "def train(model, train_loader, criterion, optimizer):\n",
        "    model.train()\n",
        "    num_batches = 0\n",
        "    num_items = 0\n",
        "\n",
        "    total_loss = 0\n",
        "    total_correct = 0\n",
        "    for batch in tqdm(train_loader):\n",
        "\n",
        "        input_ids = batch['input_ids'].to(device)\n",
        "        labels = batch['label_id'].to(device)\n",
        "\n",
        "\n",
        "        # Forward pass\n",
        "        output = model(input_ids)\n",
        "        print(output.shape)\n",
        "        print(labels.shape)\n",
        "\n",
        "        # Calculate the loss\n",
        "        loss = criterion(output, labels.long())\n",
        "        total_loss += loss.item()\n",
        "        num_batches += 1\n",
        "\n",
        "        # Calculate the accuracy\n",
        "        predicted = torch.argmax(output, dim=1)\n",
        "        total_correct += (predicted == labels).sum().item()\n",
        "        num_items += labels.size(0)\n",
        "\n",
        "        # Backpropagation\n",
        "        loss.backward()\n",
        "        optimizer.step()\n",
        "        optimizer.zero_grad()\n",
        "    train_loss = total_loss/num_batches\n",
        "    train_acc = total_correct/num_items\n",
        "    print(f'Train Loss: {train_loss:.4f}, Train Acc: {train_acc:.4f}')\n",
        "    return train_loss.item(), train_acc\n",
        "\n",
        "criterion = nn.CrossEntropyLoss()\n",
        "optimizer = optim.Adam(model.parameters(), lr=0.001)\n",
        "\n",
        "losses = []\n",
        "accuracies = []\n",
        "epochs = 5\n",
        "\n",
        "for epoch in range(epochs):\n",
        "    print(f'Epoch {epoch+1}/{epochs}')\n",
        "    train_loss, train_acc = train(model, train_loader, criterion, optimizer)\n",
        "    losses.append(train_loss)\n",
        "    accuracies.append(train_acc)"
      ],
      "metadata": {
        "id": "f-1jV5_BUWhf"
      },
      "execution_count": null,
      "outputs": []
    },
    {
      "cell_type": "code",
      "source": [],
      "metadata": {
        "id": "SkV0sHCvaBYE"
      },
      "execution_count": null,
      "outputs": []
    }
  ]
}