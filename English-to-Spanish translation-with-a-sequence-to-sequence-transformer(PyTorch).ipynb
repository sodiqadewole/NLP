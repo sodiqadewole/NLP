{
 "cells": [
  {
   "cell_type": "code",
   "execution_count": 4,
   "id": "6c58f129",
   "metadata": {},
   "outputs": [],
   "source": [
    "import torch\n",
    "import torch.nn as nn\n",
    "import torchtext\n",
    "from torchtext.datasets import IMDB\n",
    "from torchtext.data.utils import get_tokenizer\n",
    "from torchtext.vocab import build_vocab_from_iterator\n",
    "\n",
    "import os\n",
    "import pathlib\n",
    "import random\n",
    "import string\n",
    "import re\n",
    "import numpy as np"
   ]
  },
  {
   "cell_type": "markdown",
   "id": "ea78b7a7",
   "metadata": {},
   "source": [
    "#### Download data"
   ]
  },
  {
   "cell_type": "code",
   "execution_count": null,
   "id": "781e8c5b",
   "metadata": {},
   "outputs": [
    {
     "name": "stdout",
     "output_type": "stream",
     "text": [
      "Zip file downloaded.\n",
      "Zip file extracted.\n"
     ]
    }
   ],
   "source": [
    "import requests\n",
    "import io\n",
    "import zipfile\n",
    "\n",
    "url = \"http://storage.googleapis.com/download.tensorflow.org/data/spa-eng.zip\"\n",
    "\n",
    "response = requests.get(url)\n",
    "\n",
    "if response.status_code == 200:\n",
    "    print(\"Zip file downloaded.\")\n",
    "else:\n",
    "    print(f\"Unable to download zip file: {response.status_code}\")\n",
    "    exit()\n",
    "\n",
    "zip_content = io.BytesIO(response.content)\n",
    "\n",
    "with zipfile.ZipFile(zip_content, 'r') as z:\n",
    "    z.extractall()\n",
    "    print(\"Zip file extracted.\")\n",
    "\n",
    "# Get text file\n",
    "if os.path.isfile(\"spa-eng/spa.txt\"):\n",
    "    with open(\"spa-eng/spa.txt\", 'r') as f:\n",
    "        text_lines = f.readlines()"
   ]
  },
  {
   "cell_type": "markdown",
   "id": "3163669e",
   "metadata": {},
   "source": [
    "#### Parsing the data"
   ]
  },
  {
   "cell_type": "code",
   "execution_count": 11,
   "id": "c4358187",
   "metadata": {},
   "outputs": [
    {
     "name": "stdout",
     "output_type": "stream",
     "text": [
      "('He seems to be a student.', '[start] Parece ser un estudiante.\\n [end]')\n",
      "('The employees are all unionized.', '[start] Todos los empleados están sindicados.\\n [end]')\n",
      "('My orders are absolute.', '[start] Mis órdenes son incondicionales.\\n [end]')\n",
      "(\"We're historians.\", '[start] Somos historiadores.\\n [end]')\n",
      "(\"That's the reason he became angry.\", '[start] Esa es la razón por la que se enfadó.\\n [end]')\n"
     ]
    }
   ],
   "source": [
    "text_pairs = []\n",
    "for line in text_lines:\n",
    "    eng, spa = line.split(\"\\t\")\n",
    "    spa = \"[start] \" + spa + \" [end]\"\n",
    "    text_pairs.append((eng, spa))\n",
    "\n",
    "# Sample sentence pairs\n",
    "for _ in range(5):\n",
    "    print(random.choice(text_pairs))"
   ]
  },
  {
   "cell_type": "markdown",
   "id": "5f9fbb09",
   "metadata": {},
   "source": [
    "##### Split the sentence into training set, validation and test set"
   ]
  },
  {
   "cell_type": "code",
   "execution_count": 12,
   "id": "eef26c9f",
   "metadata": {},
   "outputs": [
    {
     "name": "stdout",
     "output_type": "stream",
     "text": [
      "118964 total pairs\n",
      "83276 training pairs\n",
      "17844 validation pairs\n",
      "17844 test pairs\n"
     ]
    }
   ],
   "source": [
    "random.shuffle(text_pairs)\n",
    "\n",
    "# train_split, val_split, test_split = 0.15\n",
    "num_val_samples = int(0.15 * len(text_pairs))\n",
    "num_train_samples = len(text_pairs) - 2 * num_val_samples\n",
    "train_pairs = text_pairs[:num_train_samples]\n",
    "val_pairs = text_pairs[num_train_samples : num_train_samples + num_val_samples]\n",
    "test_pairs = text_pairs[num_train_samples + num_val_samples :]\n",
    "\n",
    "print(f\"{len(text_pairs)} total pairs\")\n",
    "print(f\"{len(train_pairs)} training pairs\")\n",
    "print(f\"{len(val_pairs)} validation pairs\")\n",
    "print(f\"{len(test_pairs)} test pairs\")"
   ]
  },
  {
   "cell_type": "markdown",
   "id": "dc8f0d37",
   "metadata": {},
   "source": [
    "##### Vectorization"
   ]
  },
  {
   "cell_type": "code",
   "execution_count": 14,
   "id": "63197520",
   "metadata": {},
   "outputs": [
    {
     "name": "stdout",
     "output_type": "stream",
     "text": [
      "!\"#$%&'()*+,-./:;<=>?@[\\]^_`{|}~¿\n",
      "!\"#$%&'()*+,-./:;<=>?@\\^_`{|}~¿\n"
     ]
    }
   ],
   "source": [
    "strip_chars = string.punctuation + \"¿\"\n",
    "print(strip_chars)\n",
    "strip_chars = strip_chars.replace(\"[\", \"\")\n",
    "strip_chars = strip_chars.replace(\"]\", \"\")\n",
    "print(strip_chars)"
   ]
  },
  {
   "cell_type": "code",
   "execution_count": null,
   "id": "22f6b079",
   "metadata": {},
   "outputs": [],
   "source": [
    "vocab_size = 15000\n",
    "sequence_length = 20\n",
    "batch_size = 64\n",
    "\n",
    "\n",
    "def custom_standardization(input_strin):\n",
    "    lowercase = torchtext.transforms\n",
    "\n",
    "\n",
    "eng_vectorization = "
   ]
  },
  {
   "cell_type": "code",
   "execution_count": null,
   "id": "b52926f3",
   "metadata": {},
   "outputs": [],
   "source": []
  },
  {
   "cell_type": "code",
   "execution_count": null,
   "id": "1236d924",
   "metadata": {},
   "outputs": [],
   "source": []
  },
  {
   "cell_type": "code",
   "execution_count": null,
   "id": "f755bef1",
   "metadata": {},
   "outputs": [],
   "source": []
  }
 ],
 "metadata": {
  "kernelspec": {
   "display_name": "pytorch_env",
   "language": "python",
   "name": "python3"
  },
  "language_info": {
   "codemirror_mode": {
    "name": "ipython",
    "version": 3
   },
   "file_extension": ".py",
   "mimetype": "text/x-python",
   "name": "python",
   "nbconvert_exporter": "python",
   "pygments_lexer": "ipython3",
   "version": "3.13.7"
  }
 },
 "nbformat": 4,
 "nbformat_minor": 5
}
