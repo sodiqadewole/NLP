{
 "cells": [
  {
   "cell_type": "code",
   "execution_count": 4,
   "id": "6c58f129",
   "metadata": {},
   "outputs": [],
   "source": [
    "import torch\n",
    "import torch.nn as nn\n",
    "import torchtext\n",
    "from torchtext.datasets import IMDB\n",
    "from torchtext.data.utils import get_tokenizer\n",
    "from torchtext.vocab import build_vocab_from_iterator\n",
    "\n",
    "import os\n",
    "import pathlib\n",
    "import random\n",
    "import string\n",
    "import re\n",
    "import numpy as np"
   ]
  },
  {
   "cell_type": "markdown",
   "id": "ea78b7a7",
   "metadata": {},
   "source": [
    "#### Download data"
   ]
  },
  {
   "cell_type": "code",
   "execution_count": null,
   "id": "781e8c5b",
   "metadata": {},
   "outputs": [
    {
     "name": "stdout",
     "output_type": "stream",
     "text": [
      "Zip file downloaded.\n",
      "Zip file extracted.\n"
     ]
    }
   ],
   "source": [
    "import requests\n",
    "import io\n",
    "import zipfile\n",
    "\n",
    "url = \"http://storage.googleapis.com/download.tensorflow.org/data/spa-eng.zip\"\n",
    "\n",
    "response = requests.get(url)\n",
    "\n",
    "if response.status_code == 200:\n",
    "    print(\"Zip file downloaded.\")\n",
    "else:\n",
    "    print(f\"Unable to download zip file: {response.status_code}\")\n",
    "    exit()\n",
    "\n",
    "zip_content = io.BytesIO(response.content)\n",
    "\n",
    "with zipfile.ZipFile(zip_content, 'r') as z:\n",
    "    z.extractall()\n",
    "    print(\"Zip file extracted.\")\n",
    "\n",
    "# Get text file\n",
    "if os.path.isfile(\"spa-eng/spa.txt\"):\n",
    "    with open(\"spa-eng/spa.txt\", 'r') as f:\n",
    "        text_lines = f.readlines()"
   ]
  },
  {
   "cell_type": "markdown",
   "id": "3163669e",
   "metadata": {},
   "source": [
    "#### Parsing the data"
   ]
  },
  {
   "cell_type": "code",
   "execution_count": 11,
   "id": "c4358187",
   "metadata": {},
   "outputs": [
    {
     "name": "stdout",
     "output_type": "stream",
     "text": [
      "('He seems to be a student.', '[start] Parece ser un estudiante.\\n [end]')\n",
      "('The employees are all unionized.', '[start] Todos los empleados están sindicados.\\n [end]')\n",
      "('My orders are absolute.', '[start] Mis órdenes son incondicionales.\\n [end]')\n",
      "(\"We're historians.\", '[start] Somos historiadores.\\n [end]')\n",
      "(\"That's the reason he became angry.\", '[start] Esa es la razón por la que se enfadó.\\n [end]')\n"
     ]
    }
   ],
   "source": [
    "text_pairs = []\n",
    "for line in text_lines:\n",
    "    eng, spa = line.split(\"\\t\")\n",
    "    spa = \"[start] \" + spa + \" [end]\"\n",
    "    text_pairs.append((eng, spa))\n",
    "\n",
    "# Sample sentence pairs\n",
    "for _ in range(5):\n",
    "    print(random.choice(text_pairs))"
   ]
  },
  {
   "cell_type": "markdown",
   "id": "5f9fbb09",
   "metadata": {},
   "source": [
    "##### Split the sentence into training set, validation and test set"
   ]
  },
  {
   "cell_type": "code",
   "execution_count": 12,
   "id": "eef26c9f",
   "metadata": {},
   "outputs": [
    {
     "name": "stdout",
     "output_type": "stream",
     "text": [
      "118964 total pairs\n",
      "83276 training pairs\n",
      "17844 validation pairs\n",
      "17844 test pairs\n"
     ]
    }
   ],
   "source": [
    "random.shuffle(text_pairs)\n",
    "\n",
    "# train_split, val_split, test_split = 0.15\n",
    "num_val_samples = int(0.15 * len(text_pairs))\n",
    "num_train_samples = len(text_pairs) - 2 * num_val_samples\n",
    "train_pairs = text_pairs[:num_train_samples]\n",
    "val_pairs = text_pairs[num_train_samples : num_train_samples + num_val_samples]\n",
    "test_pairs = text_pairs[num_train_samples + num_val_samples :]\n",
    "\n",
    "print(f\"{len(text_pairs)} total pairs\")\n",
    "print(f\"{len(train_pairs)} training pairs\")\n",
    "print(f\"{len(val_pairs)} validation pairs\")\n",
    "print(f\"{len(test_pairs)} test pairs\")"
   ]
  },
  {
   "cell_type": "markdown",
   "id": "dc8f0d37",
   "metadata": {},
   "source": [
    "##### Vectorization"
   ]
  },
  {
   "cell_type": "code",
   "execution_count": 14,
   "id": "63197520",
   "metadata": {},
   "outputs": [
    {
     "name": "stdout",
     "output_type": "stream",
     "text": [
      "!\"#$%&'()*+,-./:;<=>?@[\\]^_`{|}~¿\n",
      "!\"#$%&'()*+,-./:;<=>?@\\^_`{|}~¿\n"
     ]
    }
   ],
   "source": [
    "strip_chars = string.punctuation + \"¿\"\n",
    "print(strip_chars)\n",
    "strip_chars = strip_chars.replace(\"[\", \"\")\n",
    "strip_chars = strip_chars.replace(\"]\", \"\")\n",
    "print(strip_chars)"
   ]
  },
  {
   "cell_type": "code",
   "execution_count": null,
   "id": "aef064a4",
   "metadata": {},
   "outputs": [],
   "source": [
    "vocab_size = 20000 # we only consider the top 20k words\n",
    "max_len = 200 # we only consider the first 200 words of each movie review\n",
    "\n",
    "from tokenizers import Tokenizer\n",
    "from tokenizers.models import WordLevel\n",
    "from tokenizers.trainers import WordLevelTrainer\n",
    "\n",
    "\n"
   ]
  },
  {
   "cell_type": "code",
   "execution_count": 34,
   "id": "bc1cff36",
   "metadata": {},
   "outputs": [
    {
     "name": "stderr",
     "output_type": "stream",
     "text": [
      "83276lines [00:00, 596531.77lines/s]\n"
     ]
    },
    {
     "ename": "TypeError",
     "evalue": "'Vocab' object is not callable",
     "output_type": "error",
     "traceback": [
      "\u001b[31m---------------------------------------------------------------------------\u001b[39m",
      "\u001b[31mTypeError\u001b[39m                                 Traceback (most recent call last)",
      "\u001b[36mCell\u001b[39m\u001b[36m \u001b[39m\u001b[32mIn[34]\u001b[39m\u001b[32m, line 21\u001b[39m\n\u001b[32m     17\u001b[39m vocab = build_vocab_from_iterator(tokenized_eng_data)\u001b[38;5;66;03m#, specials=[\"<unk>\", \"<pad>\"])\u001b[39;00m\n\u001b[32m     18\u001b[39m \u001b[38;5;66;03m# vocab.set_default_index(vocab[\"<unk>\"])\u001b[39;00m\n\u001b[32m     19\u001b[39m \n\u001b[32m     20\u001b[39m \u001b[38;5;66;03m# Numericalization\u001b[39;00m\n\u001b[32m---> \u001b[39m\u001b[32m21\u001b[39m numericalized_data = [torch.tensor(\u001b[43mvocab\u001b[49m\u001b[43m(\u001b[49m\u001b[43mtokens\u001b[49m\u001b[43m)\u001b[49m) \u001b[38;5;28;01mfor\u001b[39;00m tokens \u001b[38;5;129;01min\u001b[39;00m tokenized_eng_data]\n\u001b[32m     23\u001b[39m \u001b[38;5;66;03m# Padding and Batching\u001b[39;00m\n\u001b[32m     24\u001b[39m padded_sequences = pad_sequence(numericalized_data, batch_first=\u001b[38;5;28;01mTrue\u001b[39;00m, padding_value=vocab[\u001b[33m\"\u001b[39m\u001b[33m<pad>\u001b[39m\u001b[33m\"\u001b[39m])\n",
      "\u001b[31mTypeError\u001b[39m: 'Vocab' object is not callable"
     ]
    }
   ],
   "source": [
    "import torch\n",
    "from torchtext.data.utils import get_tokenizer\n",
    "from torchtext.vocab import build_vocab_from_iterator\n",
    "from torch.nn.utils.rnn import pad_sequence\n",
    "\n",
    "train_eng_texts = [pair[0] for pair in train_pairs]\n",
    "train_spa_texts = [pair[1] for pair in train_pairs]\n",
    "\n",
    "# Tokenization\n",
    "eng_tokenizer = get_tokenizer(\"basic_english\")\n",
    "# spa_tokenizer = get_tokenizer(\"spanish\")\n",
    "\n",
    "tokenized_eng_data = [eng_tokenizer(text) for text in train_eng_texts]\n",
    "# tokenized_spa_data = [spa_tokenizer(text) for text in train_spa_texts]\n",
    "\n",
    "# Vocabulary building\n",
    "vocab = build_vocab_from_iterator(tokenized_eng_data)#, specials=[\"<unk>\", \"<pad>\"])\n",
    "# vocab.set_default_index(vocab[\"<unk>\"])\n",
    "\n",
    "# Numericalization\n",
    "numericalized_data = [torch.tensor(vocab(tokens)) for tokens in tokenized_eng_data]\n",
    "\n",
    "# Padding and Batching\n",
    "padded_sequences = pad_sequence(numericalized_data, batch_first=True, padding_value=vocab[\"<pad>\"])\n",
    "\n",
    "# Embedding Layer (within a PyTorch model)\n",
    "embedding_dim = 100\n",
    "num_embeddings = len(vocab)\n",
    "embedding_layer = torch.nn.Embedding(num_embeddings, embedding_dim, padding_idx=vocab[\"<pad>\"])\n",
    "\n",
    "# Example of using the embedding layer\n",
    "embedded_output = embedding_layer(padded_sequences)\n",
    "print(embedded_output.shape) # Expected: (batch_size, sequence_length, embedding_dim)"
   ]
  },
  {
   "cell_type": "code",
   "execution_count": 39,
   "id": "4d7842e0",
   "metadata": {},
   "outputs": [],
   "source": [
    "from tokenizers import Tokenizer\n",
    "from tokenizers.models import WordLevel\n",
    "from tokenizers import pre_tokenizers, normalizers, trainers\n",
    "from tokenizers.trainers import WordLevelTrainer\n",
    "\n",
    "vocab_size = 15000\n",
    "sequence_length = 20\n",
    "batch_size = 64\n",
    "\n",
    "train_eng_texts = [pair[0] for pair in train_pairs]\n",
    "train_spa_texts = [pair[1] for pair in train_pairs]\n",
    "\n",
    "tokenizer = Tokenizer(WordLevel(unk_token='[UNK]'))\n",
    "tokenizer.pre_tokenizer = pre_tokenizers.Whitespace()\n",
    "tokenizer.normalizer = normalizers.Sequence([normalizers.NFD(),\n",
    "                                             normalizers.Lowercase(),\n",
    "                                             normalizers.StripAccents()])\n",
    "\n",
    "trainer = WordLevelTrainer(vocab_size=vocab_size,\n",
    "                                    min_frequency=1,\n",
    "                                    special_tokens=['[UNK]'])\n",
    "\n",
    "tokenizer.train_from_iterator(train_eng_texts, trainer)\n",
    "\n",
    "def transform_text(text):\n",
    "    x = tokenizer.encode(text)\n",
    "    x.truncate(sequence_length)\n",
    "    x.pad(sequence_length)\n",
    "    return x.ids\n",
    "\n",
    "def apply_transform(x):\n",
    "    return {'input_ids': transform_text(x)}\n",
    "\n",
    "train_eng_texts = [apply_transform(x) for x in train_eng_texts]\n",
    "train_spa_texts = [apply_transform(x) for x in train_spa_texts]\n",
    "# train_eng_texts.apply(transform_text).with_format('torch')"
   ]
  },
  {
   "cell_type": "code",
   "execution_count": 42,
   "id": "b38eb323",
   "metadata": {},
   "outputs": [],
   "source": [
    "train_eng_data = torch.utils.data.DataLoader(train_eng_texts, batch_size=batch_size, shuffle=True, drop_last=True)\n",
    "train_spa_data = torch.utils.data.DataLoader(train_spa_texts, batch_size=batch_size, shuffle=True, drop_last=True)"
   ]
  },
  {
   "cell_type": "code",
   "execution_count": null,
   "id": "22f6b079",
   "metadata": {},
   "outputs": [],
   "source": [
    "\n",
    "\n",
    "import torchtext.\n",
    "def custom_standardization(input_string):\n",
    "    return input_string.lower()\n",
    "\n",
    "\n",
    "# Initialize a standard tokenizer\n",
    "tokenizer = torchtext.transforms.SentencePieceTokenizer()\n",
    "\n",
    "eng_vectorization = "
   ]
  },
  {
   "cell_type": "code",
   "execution_count": null,
   "id": "b52926f3",
   "metadata": {},
   "outputs": [],
   "source": []
  },
  {
   "cell_type": "code",
   "execution_count": null,
   "id": "1236d924",
   "metadata": {},
   "outputs": [],
   "source": []
  },
  {
   "cell_type": "code",
   "execution_count": null,
   "id": "f755bef1",
   "metadata": {},
   "outputs": [],
   "source": []
  }
 ],
 "metadata": {
  "kernelspec": {
   "display_name": "pytorch_env",
   "language": "python",
   "name": "python3"
  },
  "language_info": {
   "codemirror_mode": {
    "name": "ipython",
    "version": 3
   },
   "file_extension": ".py",
   "mimetype": "text/x-python",
   "name": "python",
   "nbconvert_exporter": "python",
   "pygments_lexer": "ipython3",
   "version": "3.13.7"
  }
 },
 "nbformat": 4,
 "nbformat_minor": 5
}
