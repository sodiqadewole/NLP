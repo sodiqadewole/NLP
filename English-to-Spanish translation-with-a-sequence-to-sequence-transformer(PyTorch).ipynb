{
 "cells": [
  {
   "cell_type": "code",
   "execution_count": 4,
   "id": "6c58f129",
   "metadata": {},
   "outputs": [],
   "source": [
    "import torch\n",
    "import torch.nn as nn\n",
    "import torchtext\n",
    "from torchtext.datasets import IMDB\n",
    "from torchtext.data.utils import get_tokenizer\n",
    "from torchtext.vocab import build_vocab_from_iterator\n",
    "\n",
    "import os\n",
    "import pathlib\n",
    "import random\n",
    "import string\n",
    "import re\n",
    "import numpy as np"
   ]
  },
  {
   "cell_type": "markdown",
   "id": "ea78b7a7",
   "metadata": {},
   "source": [
    "#### Download data"
   ]
  },
  {
   "cell_type": "code",
   "execution_count": null,
   "id": "781e8c5b",
   "metadata": {},
   "outputs": [
    {
     "name": "stdout",
     "output_type": "stream",
     "text": [
      "Zip file downloaded.\n",
      "Zip file extracted.\n"
     ]
    }
   ],
   "source": [
    "import requests\n",
    "import io\n",
    "import zipfile\n",
    "\n",
    "url = \"http://storage.googleapis.com/download.tensorflow.org/data/spa-eng.zip\"\n",
    "\n",
    "response = requests.get(url)\n",
    "\n",
    "if response.status_code == 200:\n",
    "    print(\"Zip file downloaded.\")\n",
    "else:\n",
    "    print(f\"Unable to download zip file: {response.status_code}\")\n",
    "    exit()\n",
    "\n",
    "zip_content = io.BytesIO(response.content)\n",
    "\n",
    "with zipfile.ZipFile(zip_content, 'r') as z:\n",
    "    z.extractall()\n",
    "    print(\"Zip file extracted.\")\n",
    "\n",
    "# Get text file\n",
    "if os.path.isfile(\"spa-eng/spa.txt\"):\n",
    "    with open(\"spa-eng/spa.txt\", 'r') as f:\n",
    "        text_lines = f.readlines()"
   ]
  },
  {
   "cell_type": "markdown",
   "id": "3163669e",
   "metadata": {},
   "source": [
    "#### Parsing the data"
   ]
  },
  {
   "cell_type": "code",
   "execution_count": 11,
   "id": "c4358187",
   "metadata": {},
   "outputs": [
    {
     "name": "stdout",
     "output_type": "stream",
     "text": [
      "('He seems to be a student.', '[start] Parece ser un estudiante.\\n [end]')\n",
      "('The employees are all unionized.', '[start] Todos los empleados están sindicados.\\n [end]')\n",
      "('My orders are absolute.', '[start] Mis órdenes son incondicionales.\\n [end]')\n",
      "(\"We're historians.\", '[start] Somos historiadores.\\n [end]')\n",
      "(\"That's the reason he became angry.\", '[start] Esa es la razón por la que se enfadó.\\n [end]')\n"
     ]
    }
   ],
   "source": [
    "text_pairs = []\n",
    "for line in text_lines:\n",
    "    eng, spa = line.split(\"\\t\")\n",
    "    spa = \"[start] \" + spa + \" [end]\"\n",
    "    text_pairs.append((eng, spa))\n",
    "\n",
    "# Sample sentence pairs\n",
    "for _ in range(5):\n",
    "    print(random.choice(text_pairs))"
   ]
  },
  {
   "cell_type": "markdown",
   "id": "5f9fbb09",
   "metadata": {},
   "source": [
    "##### Split the sentence into training set, validation and test set"
   ]
  },
  {
   "cell_type": "code",
   "execution_count": 12,
   "id": "eef26c9f",
   "metadata": {},
   "outputs": [
    {
     "name": "stdout",
     "output_type": "stream",
     "text": [
      "118964 total pairs\n",
      "83276 training pairs\n",
      "17844 validation pairs\n",
      "17844 test pairs\n"
     ]
    }
   ],
   "source": [
    "random.shuffle(text_pairs)\n",
    "\n",
    "# train_split, val_split, test_split = 0.15\n",
    "num_val_samples = int(0.15 * len(text_pairs))\n",
    "num_train_samples = len(text_pairs) - 2 * num_val_samples\n",
    "train_pairs = text_pairs[:num_train_samples]\n",
    "val_pairs = text_pairs[num_train_samples : num_train_samples + num_val_samples]\n",
    "test_pairs = text_pairs[num_train_samples + num_val_samples :]\n",
    "\n",
    "print(f\"{len(text_pairs)} total pairs\")\n",
    "print(f\"{len(train_pairs)} training pairs\")\n",
    "print(f\"{len(val_pairs)} validation pairs\")\n",
    "print(f\"{len(test_pairs)} test pairs\")"
   ]
  },
  {
   "cell_type": "markdown",
   "id": "dc8f0d37",
   "metadata": {},
   "source": [
    "##### Vectorization"
   ]
  },
  {
   "cell_type": "code",
   "execution_count": 14,
   "id": "63197520",
   "metadata": {},
   "outputs": [
    {
     "name": "stdout",
     "output_type": "stream",
     "text": [
      "!\"#$%&'()*+,-./:;<=>?@[\\]^_`{|}~¿\n",
      "!\"#$%&'()*+,-./:;<=>?@\\^_`{|}~¿\n"
     ]
    }
   ],
   "source": [
    "strip_chars = string.punctuation + \"¿\"\n",
    "print(strip_chars)\n",
    "strip_chars = strip_chars.replace(\"[\", \"\")\n",
    "strip_chars = strip_chars.replace(\"]\", \"\")\n",
    "print(strip_chars)"
   ]
  },
  {
   "cell_type": "code",
   "execution_count": 69,
   "id": "d8bfc6cd",
   "metadata": {},
   "outputs": [
    {
     "data": {
      "text/plain": [
       "('Are you a creature of habit?',\n",
       " '[start] ¿Eres un esclavo del hábito?\\n [end]')"
      ]
     },
     "execution_count": 69,
     "metadata": {},
     "output_type": "execute_result"
    }
   ],
   "source": [
    "train_pairs[0]"
   ]
  },
  {
   "cell_type": "code",
   "execution_count": 97,
   "id": "4d7842e0",
   "metadata": {},
   "outputs": [
    {
     "data": {
      "text/plain": [
       "({'encoder_inputs': [30, 6, 8, 3711, 16, 1517, 9],\n",
       "  'decoder_inputs': [1, 4, 2, 13, 124, 17, 5624, 47, 2522, 14, 1, 3, 2]},\n",
       " [1, 4, 2, 13, 124, 17, 5624, 47, 2522, 14, 1, 3, 2])"
      ]
     },
     "execution_count": 97,
     "metadata": {},
     "output_type": "execute_result"
    }
   ],
   "source": [
    "from tokenizers import Tokenizer\n",
    "from tokenizers.models import WordLevel\n",
    "from tokenizers import pre_tokenizers, normalizers, trainers\n",
    "from tokenizers.trainers import WordLevelTrainer\n",
    "from torch.nn.utils.rnn import pad_sequence\n",
    "\n",
    "vocab_size = 20000\n",
    "max_sequence_length = 20\n",
    "batch_size = 64\n",
    "\n",
    "train_eng_texts = [pair[0] for pair in train_pairs]\n",
    "train_spa_texts = [pair[1] for pair in train_pairs]\n",
    "\n",
    "# English Tokenizer\n",
    "eng_tokenizer = Tokenizer(WordLevel(unk_token='[UNK]'))\n",
    "eng_tokenizer.pre_tokenizer = pre_tokenizers.Whitespace()\n",
    "eng_tokenizer.normalizer = normalizers.Sequence([normalizers.NFD(),\n",
    "                                             normalizers.Lowercase(),\n",
    "                                             normalizers.StripAccents()])\n",
    "trainer = WordLevelTrainer(vocab_size=vocab_size,\n",
    "                            min_frequency=1,\n",
    "                            special_tokens=['[UNK]'])\n",
    "eng_tokenizer.train_from_iterator(train_eng_texts, trainer)\n",
    "\n",
    "# Spanish Tokenizer\n",
    "spa_tokenizer = Tokenizer(WordLevel(unk_token='[UNK]'))\n",
    "spa_tokenizer.pre_tokenizer = pre_tokenizers.Whitespace()\n",
    "spa_tokenizer.normalizer = normalizers.Sequence([normalizers.NFD(),\n",
    "                                             normalizers.Lowercase(),\n",
    "                                             normalizers.StripAccents()])\n",
    "trainer = WordLevelTrainer(vocab_size=vocab_size,\n",
    "                            min_frequency=1,\n",
    "                            special_tokens=['[UNK]'])\n",
    "spa_tokenizer.train_from_iterator(train_spa_texts, trainer)\n",
    "\n",
    "def transform_text(pair):\n",
    "    x, y = pair[0], pair[1]\n",
    "    x = eng_tokenizer.encode(x)\n",
    "    y = spa_tokenizer.encode(y)\n",
    "    # x = x.truncate(max_sequence_length)\n",
    "    # y = y.truncate(max_sequence_length)\n",
    "    # x = x.pad(sequence_length)\n",
    "    # y = y.pad(sequence_length)\n",
    "    return ({'encoder_inputs': x.ids,\n",
    "            'decoder_inputs': y.ids},\n",
    "            y.ids)\n",
    "\n",
    "def make_dataset(pairs):\n",
    "    # eng_texts, spa_texts = zip(*pairs)\n",
    "    dataset = [transform_text(pair) for pair in pairs]\n",
    "    return dataset\n",
    "    # eng_texts, spa_texts = zip(*pairs)\n",
    "    # dataset = torch.utils.data.Dataset((eng_texts, spa_texts))\n",
    "    # dataset = dataset.map(transform_text)\n",
    "\n",
    "train_ds = make_dataset(train_pairs)\n",
    "train_ds[0]\n",
    "# train_eng_texts.apply(transform_text).with_format('torch')"
   ]
  },
  {
   "cell_type": "code",
   "execution_count": 95,
   "id": "e1781a01",
   "metadata": {},
   "outputs": [
    {
     "data": {
      "text/plain": [
       "({'encoder_inputs': [13, 2, 15, 1334, 1],\n",
       "  'decoder_inputs': [1, 4, 2, 21, 1658, 5, 1, 3, 2]},\n",
       " [1, 4, 2, 21, 1658, 5, 1, 3, 2])"
      ]
     },
     "execution_count": 95,
     "metadata": {},
     "output_type": "execute_result"
    }
   ],
   "source": [
    "train_ds[10]"
   ]
  },
  {
   "cell_type": "code",
   "execution_count": 42,
   "id": "b38eb323",
   "metadata": {},
   "outputs": [],
   "source": [
    "train_eng_data = torch.utils.data.DataLoader(train_eng_texts, batch_size=batch_size, shuffle=True, drop_last=True)\n",
    "train_spa_data = torch.utils.data.DataLoader(train_spa_texts, batch_size=batch_size, shuffle=True, drop_last=True)"
   ]
  },
  {
   "cell_type": "code",
   "execution_count": null,
   "id": "22f6b079",
   "metadata": {},
   "outputs": [],
   "source": []
  },
  {
   "cell_type": "code",
   "execution_count": null,
   "id": "b52926f3",
   "metadata": {},
   "outputs": [],
   "source": []
  },
  {
   "cell_type": "code",
   "execution_count": null,
   "id": "1236d924",
   "metadata": {},
   "outputs": [],
   "source": []
  },
  {
   "cell_type": "code",
   "execution_count": null,
   "id": "f755bef1",
   "metadata": {},
   "outputs": [],
   "source": []
  }
 ],
 "metadata": {
  "kernelspec": {
   "display_name": "pytorch_env",
   "language": "python",
   "name": "python3"
  },
  "language_info": {
   "codemirror_mode": {
    "name": "ipython",
    "version": 3
   },
   "file_extension": ".py",
   "mimetype": "text/x-python",
   "name": "python",
   "nbconvert_exporter": "python",
   "pygments_lexer": "ipython3",
   "version": "3.13.7"
  }
 },
 "nbformat": 4,
 "nbformat_minor": 5
}
